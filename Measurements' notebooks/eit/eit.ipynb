{
 "cells": [
  {
   "cell_type": "code",
   "execution_count": null,
   "metadata": {},
   "outputs": [],
   "source": [
    "%pylab inline\n",
    "import pyeit"
   ]
  },
  {
   "cell_type": "markdown",
   "metadata": {},
   "source": [
    "# Elektromos Impedancia tomográfia\n",
    "\n",
    "<font color=\"red\">*Megjegyzés:* új mérés. A méréssel kapcsolatos észrevételek segítik a feladatkitűzés pontosítását.</font>"
   ]
  },
  {
   "cell_type": "markdown",
   "metadata": {},
   "source": [
    "## 1. feladat: Karakterisztika felvétele\n",
    "\n",
    "Ebben a mérésben a kádról válassza le a mikrokontrolleres adatgyűjtőt!\n",
    "\n",
    "Válasszon tetszőleges elektródapárt, amelyről a gerjesztést végzi, és válasson további két elektródát, amelyen a mérést végzi."
   ]
  },
  {
   "cell_type": "markdown",
   "metadata": {},
   "source": [
    "A választott elektródák:\n",
    "* a referenciapont: **XXX**,\n",
    "* a gerjesztési pont: **XXX**,\n",
    "* a `ch-1` mérőpont: **XXX**,\n",
    "* a `ch-2` mérőpont: **XXX**."
   ]
  },
  {
   "cell_type": "markdown",
   "metadata": {},
   "source": [
    "### 1.1. Háttér (üres kád)\n",
    "\n",
    "Töltsön a kádba a laborvezető segítségével vékony folyadékréteget. \n",
    "\n",
    "Mérje meg az _üres_ kádra jellemző:\n",
    "* alacsony frekvenciás feszültség-feszültség karakterisztikát, \n",
    "* egy alkalmasan választott gerjesztőfeszültség mellett a frekvencia-feszültség kerekterisztikát.\n",
    "\n",
    "Eredményeit foglalja össze ábrák segítségével, amelyeket szóban is elemez."
   ]
  },
  {
   "cell_type": "code",
   "execution_count": null,
   "metadata": {},
   "outputs": [],
   "source": []
  },
  {
   "cell_type": "markdown",
   "metadata": {},
   "source": [
    "### 1.2. Tárgy a kádban\n",
    "\n",
    "Helyezzen a tartályba testet (fekete téglatestet) és végezzel el a korábbi méréssorozatot.\n",
    "\n",
    "Az elkészített ábrákat elemezze és írja le tapasztalatait!"
   ]
  },
  {
   "cell_type": "code",
   "execution_count": null,
   "metadata": {},
   "outputs": [],
   "source": []
  },
  {
   "cell_type": "markdown",
   "metadata": {},
   "source": [
    "## 2. feladat: \n",
    "\n",
    "Illessze a laborvezető segítségével a kádhoz a mikrokontrolleres mérésvezérlőt.\n",
    "\n",
    "### 2.1. Adatgyűjtés\n",
    "\n",
    "Az alábbi méréseket végezze el:\n",
    "* háttér felvétele,\n",
    "* tárgy a kádban,\n",
    "* tárgy elforgatva a kádban."
   ]
  },
  {
   "cell_type": "code",
   "execution_count": null,
   "metadata": {},
   "outputs": [],
   "source": []
  },
  {
   "cell_type": "markdown",
   "metadata": {},
   "source": [
    "### 2.2. Elemzés\n",
    "\n",
    "<font color=\"red\">Ez a feladat nagyfokú önállóságot igényel.</font>\n",
    "\n",
    "Ismerkedjen meg a `pyeit` modullal, amelynek a [szűkszavú dokumentációja itt](https://github.com/liubenyuan/pyEIT) érhető el. A laborvezetővel konzultálva készítse elő az mérési adatokat az inverz probléma meghatározására és kísérelje meg a rekonstruált képek meghatározását."
   ]
  },
  {
   "cell_type": "code",
   "execution_count": null,
   "metadata": {},
   "outputs": [],
   "source": []
  },
  {
   "cell_type": "markdown",
   "metadata": {},
   "source": [
    "## A méréssel kapcsolatos észrevételek"
   ]
  },
  {
   "cell_type": "markdown",
   "metadata": {},
   "source": [
    "__Kitölteni nem kötelező__: \n",
    "* Itt kérjük feltűntetni, hogy mennyi idő volt szükséges a feladatok elvégzéséhez. \n",
    "* Itt lehet javaslatot tenni a méréssel kapcsolatban.\n",
    "* A méréssel kapcsolatban felmerült további ötletek."
   ]
  }
 ],
 "metadata": {
  "hide_input": false,
  "kernelspec": {
   "display_name": "Python 3",
   "language": "python",
   "name": "python3"
  },
  "language_info": {
   "codemirror_mode": {
    "name": "ipython",
    "version": 3
   },
   "file_extension": ".py",
   "mimetype": "text/x-python",
   "name": "python",
   "nbconvert_exporter": "python",
   "pygments_lexer": "ipython3",
   "version": "3.6.5"
  },
  "latex_envs": {
   "bibliofile": "biblio.bib",
   "cite_by": "apalike",
   "current_citInitial": 1,
   "eqLabelWithNumbers": true,
   "eqNumInitial": 0
  }
 },
 "nbformat": 4,
 "nbformat_minor": 1
}
