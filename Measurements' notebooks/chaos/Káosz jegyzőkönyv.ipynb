{
 "cells": [
  {
   "cell_type": "code",
   "execution_count": 1,
   "metadata": {},
   "outputs": [
    {
     "name": "stdout",
     "output_type": "stream",
     "text": [
      "Populating the interactive namespace from numpy and matplotlib\n"
     ]
    }
   ],
   "source": [
    "%pylab inline"
   ]
  },
  {
   "cell_type": "markdown",
   "metadata": {},
   "source": [
    "# Káosz (Chua-áramkörös megvalósítással)"
   ]
  },
  {
   "cell_type": "markdown",
   "metadata": {},
   "source": [
    "## 1. feladat: Ismerkedés a kapcsolással\n",
    "\n",
    "A rendszer kontroll paramétere egy változtatható ellenállás. Ennek pillanatnyi nagyságának mérésére használja a `DVM`-et úgy, hogy az `Ell_meres` kapcsolót megfelelő állásba billenti. A viselkedés vizsgálatához ne felejtse visszakapcsolni az ellenállást az áramkörbe.\n",
    "\n",
    "Kösse be a két csatornás oszcilloszkópot a _Chua-kapcsolás_ két kondenzátorának erősített kimenetére. Vizsgálja meg a jel időfejlődését, nézze meg a szuperponált jel alakját, amit a számítógép segítségével rögzíthet `audacity` használatával, legyen a bemenet `Default: Line: 0`-ra állítva. Amennyiben túlvezérelt a jel a terminálban futtatott `alsamixer`-ben válassza ki a felvételszabályozást _(F4: Capture)_ és a _Capture_ oszlophoz tartozó előerősítést vegye kisebbre a kurzormozgató gombok segítségével.\n",
    "\n",
    "Az érdekes viselkedési tartományokról lementheti az oszcilloszkóp adatait a `scope.sh 1 2` utasítással, amelynek kimenetét fájlba irányíthatja.\n",
    "\n",
    "_Figyelmeztetés:_ a mérés során keletkező fájljait ne felejtse a jegyzőkönyv mellé feltölteni!\n",
    "\n",
    "Azonosítsuk a legfontosabb tartományokat:\n",
    "* periodikus tartomány,\n",
    "* periodus kettőződés,\n",
    "* kaotikus viselkedés,\n",
    "* _double-scroll_ folyamat."
   ]
  },
  {
   "cell_type": "markdown",
   "metadata": {},
   "source": [
    "#### Megoldás:\n",
    "\n",
    "File-okat ezekről feltöltöttem. Ezeket mind audacity-vel, mind a scope.sh paranccsal felvettem.\n",
    "\n",
    "Emellett az oszcilloszkóp XY módjában kimértem a bifurkciós pontokhoz tartozó ellenállásértékeket az elliptikus fixpont változásának megfigyelésével."
   ]
  },
  {
   "cell_type": "markdown",
   "metadata": {},
   "source": [
    "## 2. feladat: A kapcsolás karakterisztikájának vizsgálata\n",
    "\n",
    "### 2.1. A lineáris elemek karakterisztikája\n",
    "\n",
    "Gerjessze impulzussorozattal vagy tapogassa le különböző frekvenciájú $\\sin$ jelalakkal a lineáris elemeket. Állapítsa meg a rendszerre jellemző két karakterisztikus időt és a csillapítást."
   ]
  },
  {
   "cell_type": "markdown",
   "metadata": {},
   "source": [
    "#### Megoldás:\n",
    "\n",
    "A csillapítás ideje Audacity-vel mérve $2.125\\ s$ volt"
   ]
  },
  {
   "cell_type": "markdown",
   "metadata": {},
   "source": [
    "### 2.2. A negatív ellenállás karakterisztikája\n",
    "\n",
    "A nemlineáris elem viselkedése frekvenciafüggetlen. Mérje ki az áram-feszültség karakterisztikát."
   ]
  },
  {
   "cell_type": "code",
   "execution_count": null,
   "metadata": {},
   "outputs": [],
   "source": []
  },
  {
   "cell_type": "markdown",
   "metadata": {},
   "source": [
    "## 3. feladat: Az ellenállás mint kontroll paraméter\n",
    "\n",
    "Ezeket a feladatokat a kontroll paraméter lépésenkénti változtatása mellett kell elvégezni. Az ellenállás méréséhez használja azt a kapcsolót, ami a változtatható ellenállást leválasztja az áramkörről, és a DVM-re kapcsolja. "
   ]
  },
  {
   "cell_type": "markdown",
   "metadata": {},
   "source": [
    "### 3.1. Bifurkációs pontok felvétele\n",
    "\n",
    "Határozza meg a bifurkációs pontokhoz tartozó $R_k$ értékeket! \n",
    "\n",
    "Hányad rendig tudja szemmel követni a bifurkációs pontokat?\n",
    "\n",
    "Mennyire teljesül a Feigenbaum-féle\n",
    "\n",
    "$$ \\lim_{k\\rightarrow\\infty}\\frac{R_k-R_{k-1}}{R_{k+1}-R_k}=\\delta\\approx 4{,}6692... $$\n",
    "\n",
    "összefüggés? Miért?"
   ]
  },
  {
   "cell_type": "markdown",
   "metadata": {},
   "source": [
    "#### Megoldás:\n",
    "\n",
    "Mért értékek:\n",
    "\n",
    "$$\n",
    "R_2 \\approx 1.874 \\ k \\Omega\n",
    "$$\n",
    "\n",
    "$$\n",
    "R_4 \\approx 1.863 \\ k \\Omega\n",
    "$$\n",
    "\n",
    "$$\n",
    "R_8 \\approx 1.860 \\ k \\Omega\n",
    "$$\n",
    "\n",
    "Tovább követni szemmel már nem lehetett.\n",
    "\n",
    "##### Felgenbaum:"
   ]
  },
  {
   "cell_type": "code",
   "execution_count": 50,
   "metadata": {},
   "outputs": [],
   "source": [
    "R_array = ((1.874, 1.863, 1.860))"
   ]
  },
  {
   "cell_type": "code",
   "execution_count": 52,
   "metadata": {},
   "outputs": [
    {
     "name": "stdout",
     "output_type": "stream",
     "text": [
      "delta = 3.6666666666668393\n"
     ]
    }
   ],
   "source": [
    "print(\"delta =\",(R_array[1] - R_array[0])/(R_array[2] - R_array[1]))"
   ]
  },
  {
   "cell_type": "markdown",
   "metadata": {},
   "source": [
    "Az adat azért van messze a Felgenbaum-féle $\\delta$-tól, mert közel nem mérhető szemmel elég bifurkációs pont, hogy a limesz közelébe érhessünk velük."
   ]
  },
  {
   "cell_type": "markdown",
   "metadata": {},
   "source": [
    "### 3.2. Bifurkációs diagramm felvétele\n",
    "\n",
    "A kontroll paraméter lépésenkénti változtatása mellett készítsük el a rendszer bifurkációs diagramját. \n",
    "\n",
    "* Magyarázza el kvalitatíven miért jelenik meg oszcilláció, miért mozdul ki a rendszer a triviális fixpontjából?\n",
    "* Mit tapasztal, követi a kaotikus tartományt újabb periodikus szakasz?\n",
    "* Megjelenik intermittens viselkedés?\n",
    "\n",
    "A kaotikus állapotban mérjük meg a rendszer Poincaré-leképezésbeli attraktorát! Az ábrát csatolja a jegyzőkönyvhöz!\n",
    "\n",
    "_Javaslat:_ Hallgassa is meg a különböző tartományokban a keverékjel hangját! Lehet füllel követni a bifurkációs folyamatot?"
   ]
  },
  {
   "cell_type": "markdown",
   "metadata": {},
   "source": [
    "#### Megoldás:\n",
    "\n"
   ]
  },
  {
   "cell_type": "markdown",
   "metadata": {},
   "source": [
    "#### Extra feladat\n",
    "\n",
    "Mérjük meg a kontroll paraméter függvényében a spektrumot. Határozzuk meg a fő csúcsokat! Hogyan változik ez a kontroll paraméter függvényében?"
   ]
  },
  {
   "cell_type": "code",
   "execution_count": null,
   "metadata": {},
   "outputs": [],
   "source": []
  },
  {
   "cell_type": "markdown",
   "metadata": {},
   "source": [
    "### 3.3. Az információs entrópia viselkedése\n",
    "\n",
    "A kontroll paraméter lépésenkénti változtatása mellett, vegyük fel a kimenő jelek/jelkeverék csúcsértékeinek eloszlását, és a $H = -\\sum\\limits^{4096}_{i=1}p_i\\log_2 p_i$ szerinti információs entrópiát."
   ]
  },
  {
   "cell_type": "code",
   "execution_count": 42,
   "metadata": {},
   "outputs": [],
   "source": [
    "def Entropy(p_array):\n",
    "    \n",
    "    H = 0\n",
    "    \n",
    "    for i in range(1,4096):\n",
    "        \n",
    "        H += p_array[i-1] * np.log2(p_array[i-1])\n",
    "        \n",
    "    return(-H)"
   ]
  },
  {
   "cell_type": "code",
   "execution_count": 43,
   "metadata": {},
   "outputs": [],
   "source": [
    "#ShannonEntropy = Entropy(p_array)"
   ]
  },
  {
   "cell_type": "markdown",
   "metadata": {},
   "source": [
    "## 4. feladat: A logisztikus leképezés vizsgálata\n",
    "\n",
    "Írjon rövid `python` programot, ami adott $r$ kontrollparaméter és $x_0$ kezdeti feltétel mellett meghatározza a logisztikus leképezés első $N$ lépését. A logisztikus leképezés iteratív formulája a következő:\n",
    "$$x_{n+1} = r x_n (1 - x_n).$$\n",
    "\n",
    "Ábrázolja a kapott értékek eloszlását a bifurkálódott és a kaotikus tartományban!"
   ]
  },
  {
   "cell_type": "code",
   "execution_count": 12,
   "metadata": {},
   "outputs": [],
   "source": [
    "import seaborn as sns"
   ]
  },
  {
   "cell_type": "code",
   "execution_count": 65,
   "metadata": {},
   "outputs": [],
   "source": [
    "def Logistic(N_log, r_ctrl, x_0):\n",
    "    \n",
    "    x_nArray = np.empty(N_log)\n",
    "    \n",
    "    x_nArray[0] = x_0\n",
    "    \n",
    "    for i in range(N_log-1):\n",
    "        \n",
    "        x_nArray[i+1] = r_ctrl * x_nArray[i] * (1 - x_nArray[i])\n",
    "        \n",
    "    return(x_nArray)"
   ]
  },
  {
   "cell_type": "code",
   "execution_count": 94,
   "metadata": {
    "scrolled": true
   },
   "outputs": [],
   "source": [
    "N_log = 50"
   ]
  },
  {
   "cell_type": "code",
   "execution_count": 95,
   "metadata": {
    "scrolled": true
   },
   "outputs": [],
   "source": [
    "r_ctrl = 3.5"
   ]
  },
  {
   "cell_type": "code",
   "execution_count": 96,
   "metadata": {},
   "outputs": [],
   "source": [
    "x_0 = 0.9"
   ]
  },
  {
   "cell_type": "code",
   "execution_count": 97,
   "metadata": {},
   "outputs": [],
   "source": [
    "LogisticOut = Logistic(N_log, r_ctrl, x_0)"
   ]
  },
  {
   "cell_type": "code",
   "execution_count": 98,
   "metadata": {},
   "outputs": [
    {
     "data": {
      "image/png": "[encoded data removed]",
      "text/plain": [
       "<Figure size 432x288 with 1 Axes>"
      ]
     },
     "metadata": {},
     "output_type": "display_data"
    }
   ],
   "source": [
    "Index_Log = np.linspace(1,N_log,N_log)\n",
    "\n",
    "plt.plot(Index_Log, LogisticOut)\n",
    "\n",
    "plt.show()"
   ]
  },
  {
   "cell_type": "code",
   "execution_count": 99,
   "metadata": {},
   "outputs": [
    {
     "data": {
      "image/png": "[encoded data removed]",
      "text/plain": [
       "<Figure size 432x288 with 1 Axes>"
      ]
     },
     "metadata": {},
     "output_type": "display_data"
    }
   ],
   "source": [
    "sns.kdeplot(LogisticOut)\n",
    "\n",
    "plt.show()"
   ]
  },
  {
   "cell_type": "markdown",
   "metadata": {},
   "source": [
    "## A méréssel kapcsolatos észrevételek"
   ]
  },
  {
   "cell_type": "markdown",
   "metadata": {},
   "source": [
    "__Kitölteni nem kötelező__: \n",
    "* Itt kérjük feltűntetni, hogy mennyi idő volt szükséges a feladatok elvégzéséhez. \n",
    "* Itt lehet javaslatot tenni a méréssel kapcsolatban.\n",
    "* A méréssel kapcsolatban felmerült további ötletek."
   ]
  }
 ],
 "metadata": {
  "hide_input": false,
  "kernelspec": {
   "display_name": "Python 3",
   "language": "python",
   "name": "python3"
  },
  "language_info": {
   "codemirror_mode": {
    "name": "ipython",
    "version": 3
   },
   "file_extension": ".py",
   "mimetype": "text/x-python",
   "name": "python",
   "nbconvert_exporter": "python",
   "pygments_lexer": "ipython3",
   "version": "3.6.5"
  },
  "latex_envs": {
   "bibliofile": "biblio.bib",
   "cite_by": "apalike",
   "current_citInitial": 1,
   "eqLabelWithNumbers": true,
   "eqNumInitial": 0
  }
 },
 "nbformat": 4,
 "nbformat_minor": 1
}
