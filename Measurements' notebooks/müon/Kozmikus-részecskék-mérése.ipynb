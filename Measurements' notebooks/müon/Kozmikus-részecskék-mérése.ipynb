{
 "cells": [
  {
   "cell_type": "code",
   "execution_count": null,
   "metadata": {},
   "outputs": [],
   "source": [
    "%pylab inline"
   ]
  },
  {
   "cell_type": "code",
   "execution_count": null,
   "metadata": {},
   "outputs": [],
   "source": [
    "import seaborn as sns"
   ]
  },
  {
   "cell_type": "code",
   "execution_count": null,
   "metadata": {},
   "outputs": [],
   "source": [
    "sns.set(style='whitegrid')"
   ]
  },
  {
   "cell_type": "markdown",
   "metadata": {},
   "source": [
    "# Kozmikus részecskék mérése\n",
    "## 1. feladat: Ismerkedés a műszerrel\n",
    "Győződjön meg arról, hogy minden eszköz alapvető működését és kezelését ismeri!\n",
    "Kapcsolja be a számláló elektronikát, majd kapcsolja be a detektor tápegységét, ha szükséges kérjen oktatói segítséget.\n",
    "\n",
    "Adjon a fotoelektron-sokszorozókra a rájuk írt értéknek megfelelő nagyfeszültséget! \n",
    "Figyelje meg a számláló áramkörből kivezetett LEDek villanásait, sokszor szemmel is észrevehet koincidenciákat: azaz olyan eseményeket, amikor az egymás melletti szcintillátorok egyszerre *szólalnak meg*."
   ]
  },
  {
   "cell_type": "code",
   "execution_count": null,
   "metadata": {},
   "outputs": [],
   "source": []
  },
  {
   "cell_type": "markdown",
   "metadata": {},
   "source": [
    "## 2. feladat: A jelalakok vizsgálata\n",
    "Vizsgálja meg az egymás alatti szcintillátorok jelét oszcilloszkóp segítségével.\n",
    "Érdemes megvizsgálni a fotoelektron-sokszorozóból kijövő közvetlen jelalakot is.\n",
    "Ehhez a tetszőlegesen választott csatornára kötött koaxiális kábelt a számláló áramkörről le kell csatolni és az oszcilloszkópra kell kötni.\n",
    "\n",
    "A számláló áramkör bemenetén minden csatornára egy-egy független jelformáló áramkör kapcsolódik.\n",
    "Vizsgálja meg milyen jel jelenik meg a jelformáló *(diszkriminátor)* kimenetén, állapítsa meg, körülbelül milyen szélesek a jelek?\n",
    "\n",
    "* A fotoelektron-sokszorozó jelének alakja és jellemzése:\n",
    "* A formált jel alakja és jellemzése:\n",
    "    * jelalak: négyszögjelek, mind a jelformáló, mind a koincidencia kimeneten\n",
    "    * jelszélesség, $\\tau$: $500\\ ns$-ra állított oszcillátorral $1,5-2$ beosztás között változnak ez alapján a szórása:\n",
    "    * jelszélesség becsült szórása, $\\delta\\tau\\approx 0.2$\n",
    "\n",
    "Próbáljon olyan eseményt rögzíteni az oszcilloszkópon, amikor a két szcintillátor egyszerre jelez! \n",
    "\n",
    "Az oszcilloszkópról a jelalakot a `scope.sh` parancs segítségével kérheti le, feltűntetve, hogy melyik csatorna adataira kíváncsi. Itt tipikusan a következőt kell futtatni:\n",
    "\n",
    "```bash\n",
    "scope.sh 1 2 3 4 > meres.dat\n",
    "```\n",
    "\n",
    "_Megjegyzés:_ Érdemes a vizsgált jelalakokat a bemenő jel ütemezéséhez igazítani."
   ]
  },
  {
   "cell_type": "code",
   "execution_count": null,
   "metadata": {},
   "outputs": [],
   "source": [
    "koinc_alap = genfromtxt('meres.dat')\n",
    "koinc_nagy_csucs = genfromtxt('meres2.dat')\n",
    "koinc_test = genfromtxt('meres3.dat')\n",
    "koinc_talan_jo = genfromtxt('meres_talan.dat')\n",
    "current_koinc = koinc_test"
   ]
  },
  {
   "cell_type": "code",
   "execution_count": null,
   "metadata": {},
   "outputs": [],
   "source": [
    "time = np.empty(len(current_koinc))\n",
    "ch1 = np.empty(len(current_koinc))\n",
    "ch2 = np.empty(len(current_koinc))\n",
    "ch3 = np.empty(len(current_koinc))\n",
    "ch4 = np.empty(len(current_koinc))\n",
    "\n",
    "for i in range(0,len(current_koinc)):\n",
    "    time[i] = current_koinc[i][0] * 1000 * 1000\n",
    "    ch1[i] = current_koinc[i][1]\n",
    "    ch2[i] = current_koinc[i][2]\n",
    "    ch3[i] = current_koinc[i][3]\n",
    "    ch4[i] = current_koinc[i][4]"
   ]
  },
  {
   "cell_type": "code",
   "execution_count": null,
   "metadata": {},
   "outputs": [],
   "source": [
    "def PlotKoinc(time, ch1, ch2, ch3, ch4):\n",
    "    \n",
    "    nrows = 1\n",
    "    ncols = 1\n",
    "    fig, axes = plt.subplots(nrows=nrows, ncols=ncols, figsize=(14,7))\n",
    "    \n",
    "    axes.plot(time, ch1, label='CH1')\n",
    "    axes.plot(time, ch2, label='CH2')\n",
    "    axes.plot(time, ch3, label='CH3')\n",
    "    axes.plot(time, ch4, label='CH4')\n",
    "    \n",
    "    axes.set_xlabel(\"Time ($\\mu s$)\")\n",
    "    axes.set_ylabel(\"Input signals from various chanels\")\n",
    "    axes.set_title(\"Az \\'A\\' detektor szcintillációja\")\n",
    "    \n",
    "    axes.set_xlim(min(time), max(time))\n",
    "    \n",
    "    plt.legend()\n",
    "    plt.show()"
   ]
  },
  {
   "cell_type": "code",
   "execution_count": null,
   "metadata": {},
   "outputs": [],
   "source": [
    "PlotKoinc(time, ch1, ch2, ch3, ch4)"
   ]
  },
  {
   "cell_type": "markdown",
   "metadata": {},
   "source": [
    "Nem sikerült a koincidenciákon kialakuló négyszögjeleket a scope.sh paranccsal elkapjam, azonban az oszcillátoron szépen látszódtak."
   ]
  },
  {
   "cell_type": "code",
   "execution_count": null,
   "metadata": {},
   "outputs": [],
   "source": []
  },
  {
   "cell_type": "markdown",
   "metadata": {},
   "source": [
    "## 3. feladat: Az ingadozások vizsgálata\n",
    "\n",
    "Kapcsoljon az `A`, a `C` és a `D` szcintillátorokra a rájuk írt _(nominális)_ értéknek megfelelő nagyfeszültséget!\n",
    "Mérje meg egy percen keresztül, hány $\\mu$-t detektál az `ACD` koincidenciában! \n",
    "Ezt a mérést ismételje meg többször is egymás után, legalább nyolcszor!\n",
    "Rögzítse a mérési adatokat és számítsa ki az adatsor szórását! \n",
    "Vizsgálja meg, mennyire egyezik ez meg a Poisson-folyamat paraméteréből becsülhető (gyökös) hibával?\n",
    "\n",
    "| Mérés száma | $N_\\mathbf{ACD}$ | Mérés száma | $N_\\mathbf{ACD}$ |\n",
    "|-------------|------------------|-------------|------------------|\n",
    "| 1           |  203             | 11          |  218\n",
    "| 2           |  206             | 12          |  222\n",
    "| 3           |  227             | 13          |  221\n",
    "| 4           |  202             | 14          |  214\n",
    "| 5           |  219             | 15          |  207\n",
    "| 6           |  198             | 16          |  179\n",
    "| 7           |  198             | 17          |  230\n",
    "| 8           |  195             | 18          |  213\n",
    "| 9           |  221             | 19          |  175\n",
    "| 10          |  237             | 20          |  227"
   ]
  },
  {
   "cell_type": "code",
   "execution_count": null,
   "metadata": {},
   "outputs": [],
   "source": [
    "# itt lehet kértékelni a statisztikákat"
   ]
  },
  {
   "cell_type": "code",
   "execution_count": null,
   "metadata": {},
   "outputs": [],
   "source": [
    "dist_data = np.array((203, 206, 227, 202, 219, 198, 198, 195, 221, 237,\n",
    "                      218, 222, 221, 214, 207, 179, 230, 213, 175, 227))\n",
    "\n",
    "dist_theor = 0\n",
    "\n",
    "for i in range(0,len(dist_data)):\n",
    "    dist_theor += (dist_data[i] - dist_data.mean())**2\n",
    "\n",
    "dist_theor /= len(dist_data)\n",
    "dist_theor = sqrt(dist_theor)\n",
    "\n",
    "print(\"Átlagos számuk:\", dist_data.mean())\n",
    "print(\"Szórásuk:\", dist_final)\n",
    "print(\"Szórásuk numpy-val:\", np.std(dist_data))"
   ]
  },
  {
   "cell_type": "code",
   "execution_count": null,
   "metadata": {},
   "outputs": [],
   "source": [
    "def PlotDist(dist_data):\n",
    "    fig, axes = plt.subplots(figsize=(14,7))\n",
    "    \n",
    "    sns.distplot(dist_data)\n",
    "    \n",
    "    plt.show()"
   ]
  },
  {
   "cell_type": "code",
   "execution_count": null,
   "metadata": {},
   "outputs": [],
   "source": [
    "PlotDist(dist_data)"
   ]
  },
  {
   "cell_type": "markdown",
   "metadata": {},
   "source": [
    "A mérések alapján\n",
    "* a $\\mu$-k átlagos száma, $\\langle N_\\mathbf{ACD} \\rangle = 210.6$\n",
    "* az empirikus szórás számolt értéke, $\\sigma \\left( \\langle N_\\mathbf{ACD} \\rangle \\right) = $\n",
    "* A szórás elvi értéke, $\\sigma = \\sqrt{\\frac{\\sum_{i=1}^{N} (x_{i} - \\overline{x})^2}{N} } = \\sqrt{\\frac{\\sum_{i=1}^{N} \\left( N_{i} - \\langle N_\\mathbf{ACD} \\rangle \\right)}{20}} = 15.957$\n",
    "\n",
    "Tapasztalataim összegzése:"
   ]
  },
  {
   "cell_type": "markdown",
   "metadata": {},
   "source": [
    "## 4. feladat: A detektor hatásfokának feszültségfüggése\n",
    "Definiálja a hatásfokot az alábbi koincidenciaarány: $$\\eta :=\\frac{N_\\mathbf{ACD}}{N_\\mathbf{AD}}.$$ \n",
    "Mérje meg a hatásfokot különböző nagyfeszültség megválasztása mellett (legalább kétszer) és méréséről készítsen ábrát.\n",
    "\n",
    "A `C` szcintillátor nominális feszültsége $U_\\mathrm{nom}=1800$ _V_.\n",
    "\n",
    "| $U_\\mathbf{C}$ [_V_] | $\\eta_1$ | $\\eta_2$ |\n",
    "|----------------------|----------|----------|\n",
    "|$U_\\mathrm{nom}-200$ | 0.769 | 0.796 |\n",
    "|$U_\\mathrm{nom}-150$ | 0.8995 | 0.929 |\n",
    "|$U_\\mathrm{nom}-100$ | 0.946 | 0.939 |\n",
    "|$U_\\mathrm{nom}-50$  | 0.990 | 0.95 |\n",
    "|$U_\\mathrm{nom}$     | 0.985 | 0.987 |\n",
    "|$U_\\mathrm{nom}+50$  | 0.991 | 0.981 |"
   ]
  },
  {
   "cell_type": "markdown",
   "metadata": {},
   "source": [
    "#### 1 percig mért értékek esetén"
   ]
  },
  {
   "cell_type": "code",
   "execution_count": null,
   "metadata": {},
   "outputs": [],
   "source": [
    "volts = np.array((1600, 1650, 1700, 1750, 1800, 1850))\n",
    "efficiency = np.array(((153/199, 197/219, 192/203, 201/203, 195/198, 209/211), (172/216, 196/211, 214/228, 209/220, 227/230, 202/206)))"
   ]
  },
  {
   "cell_type": "code",
   "execution_count": null,
   "metadata": {},
   "outputs": [],
   "source": [
    "efficiency[0]"
   ]
  },
  {
   "cell_type": "code",
   "execution_count": null,
   "metadata": {},
   "outputs": [],
   "source": [
    "# ez itt az ábra helye"
   ]
  },
  {
   "cell_type": "code",
   "execution_count": null,
   "metadata": {},
   "outputs": [],
   "source": [
    "def PlotEfficiency(volts, efficiency):\n",
    "    \n",
    "    fig, axes = plt.subplots(figsize=(14,7))\n",
    "    \n",
    "    axes.scatter(volts, efficiency[0])\n",
    "    axes.scatter(volts, efficiency[1])\n",
    "    \n",
    "    axes.set_xlabel(\"Voltage ($V$)\")\n",
    "    axes.set_ylabel(\"Measured efficiency ($\\%$)\")\n",
    "    \n",
    "    axes.set_title(\"Measured efficiencies for different voltages\")\n",
    "    \n",
    "    plt.show()"
   ]
  },
  {
   "cell_type": "code",
   "execution_count": null,
   "metadata": {},
   "outputs": [],
   "source": [
    "PlotEfficiency(volts, efficiency)"
   ]
  },
  {
   "cell_type": "markdown",
   "metadata": {},
   "source": [
    "## 5. feladat: A beütések vizsgálata radioaktív forrás jelenlétében\n",
    "\n",
    "<font color=\"red\">*Figyelem:* ebben a félévben a laborban nem használunk radioaktív izotópokat, ezért ezt a feladat nem kell elvégezni.</font>\n",
    "\n",
    "Az `A` szcintillátor feszültségét a jegyzet javaslatának megfelelően állítsa a nominálisnál 50 *V*-tal magasabbra. \n",
    "A mérések időtartama legyen pár perc hosszú.\n",
    "\n",
    "Becslés a véletlen háttérre.\n",
    "\n",
    "* A választott mérési időtartam, $T=$\n",
    "* Az `A` szcintillátor beütéseinek száma $T$ alatt, $N_\\mathbf{A}=$\n",
    "* Az `D` szcintillátor beütéseinek száma $T$ alatt, $N_\\mathbf{D}=$\n",
    "* Az `AD` koincidenciák száma $T$ alatt, $N_\\mathbf{AD}=$\n",
    "\n",
    "Végezzen mérést Cs$_{137}$ izotóppal a forrást és a detektorok közötti távolságot változtatva.\n",
    "A mérések alapján meghatározható $N_\\mathbf{A}N_\\mathbf{D}$ szorzat függvényében a koincidenciák számára ($N_\\mathbf{AD}$). \n",
    "\n",
    "|Mérés száma| $N_\\mathbf{A}$ | $N_\\mathbf{D}$ | $N_\\mathbf{AD}$ | Elrendezés rövid leírása |\n",
    "|:-:|-:|-:|-:|:-|\n",
    "| 1 |  |  |  |  |\n",
    "| 2 |  |  |  |  |\n",
    "| 3 |  |  |  |  |\n",
    "| 4 |  |  |  |  |\n",
    "| 5 |  |  |  |  |\n",
    "| 6 |  |  |  |  |\n",
    "| 7 |  |  |  |  |\n",
    "| 8 |  |  |  |  |\n",
    "\n",
    "Illesszen az adatokra egyenest és készítsen róla ábrát!"
   ]
  },
  {
   "cell_type": "code",
   "execution_count": null,
   "metadata": {},
   "outputs": [],
   "source": [
    "# kiértékelés, illesztés és ábra elkészítésének helye"
   ]
  },
  {
   "cell_type": "markdown",
   "metadata": {},
   "source": [
    "* Az egyenes egyenlete:\n",
    "* A tényleges koincidenciák száma (a fenti egyenes tengelymetszete $N_\\mathbf{A}N_\\mathbf{D}=0$), $N^*_\\mathbf{AD}=$"
   ]
  },
  {
   "cell_type": "markdown",
   "metadata": {},
   "source": [
    "## A méréssel kapcsolatos észrevételek"
   ]
  },
  {
   "cell_type": "markdown",
   "metadata": {},
   "source": [
    "__Kitölteni nem kötelező__: \n",
    "* Itt kérjük feltűntetni, hogy mennyi idő volt szükséges a feladatok elvégzéséhez. \n",
    "* Itt lehet javaslatot tenni a méréssel kapcsolatban.\n",
    "* A méréssel kapcsolatban felmerült további ötletek."
   ]
  }
 ],
 "metadata": {
  "kernelspec": {
   "display_name": "Python 3 (ipykernel)",
   "language": "python",
   "name": "python3"
  },
  "language_info": {
   "codemirror_mode": {
    "name": "ipython",
    "version": 3
   },
   "file_extension": ".py",
   "mimetype": "text/x-python",
   "name": "python",
   "nbconvert_exporter": "python",
   "pygments_lexer": "ipython3",
   "version": "3.9.10"
  }
 },
 "nbformat": 4,
 "nbformat_minor": 4
}
