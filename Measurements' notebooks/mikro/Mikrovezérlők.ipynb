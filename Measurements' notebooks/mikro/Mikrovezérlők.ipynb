{
 "cells": [
  {
   "cell_type": "markdown",
   "metadata": {},
   "source": [
    "# Mikrovezérlők\n",
    "\n",
    "A feladatok két csoportra bomlanak, egy része ismertető jellegű, kedvcsináló. A többi feladat kreativitást, önálló gondolkodást és alkotást követel meg.\n",
    "Az ismertető feladatok elvégzése kötelező, a feladat nevénél _(kf)_ jelöli ezt. A kötelező feladatoknál a mintaprogramot megosztjuk, de az áramkört a hallgató építi össze.\n",
    "\n",
    "Fontos felhívnunk a figyelmet, hogy ez a mérés rendhagyó, itt nem születik a többi mérésnél szokásos jegyzőkönyv, hanem minden feladat összeállítása és élesztése után annak működését a laborvezetővel ellenőriztetni kell, és be kell számolni a tanulságokról.\n",
    "A kötelező feladatok hiánytalan megoldása a közepes (3) érdemjegy megszerzésére elegendő.\n",
    "\n",
    "A megoldások bemutatásánál nem kell ragaszkodni a feladatok kitűzési sorrendjéhez, a hallgató érdeke, hogy a rendelkezésre álló idővel helyesen gazdálkodjon."
   ]
  },
  {
   "cell_type": "markdown",
   "metadata": {},
   "source": [
    "## 1. feladat: Digitális I/O műveletek - *kf*\n",
    "\n",
    "A feladat célja, hogy megismerkedjen a hallgató a mikrovezérlő digitális portjaival, azaz hogyan lehet egy kiválasztott portot olvasni, és egy másik rögzített portot írni.\n",
    "\n",
    "### Az építéshez szükséges alkatrészkészlet:\n",
    "\n",
    "* világító dióda _(LED)_: 1 db,\n",
    "* nyomógomb: 1 db,\n",
    "* ellenállások: 1 db 10 k$\\Omega$, 1 db 220 $\\Omega$.\n",
    "\n",
    "### Építési segédlet \n",
    "\n",
    "<img src=led-gomb.jpg alt=''>\n",
    "\n",
    "Az áramkörnek két része van a bemenetként szolgáló nyomógomb és a kimenetet jelentő LED. Mindkét alkatelem kötésénél egy-egy ellenállást kell beépíteni (áramkorlát, feszültség illesztés).\n",
    "\n",
    "### A vezérlő kód\n",
    "\n",
    "<a href=\"villogo.ino\">villogo.ino</a>"
   ]
  },
  {
   "cell_type": "markdown",
   "metadata": {},
   "source": [
    "## 2. feladat: Digitális I/O\n",
    "\n",
    "Az előző feladatban megtanultak alapján fejlessze tovább a programot.\n",
    "Az új program célja, hogy egyszerű mintázat tárolására és visszajátszására megtanítsuk az eszközt.\n",
    "Egészítse ki a kapcsolást még egy nyomógombbal, egy visszajelző LED-del és a szükséges felhúzó illetve előtét ellenállásokkal.\n",
    "\n",
    "Elvárt működés:\n",
    "* A tanuló és lejátszó módok között az 1-es gombbal lehet kapcsolgatni,\n",
    "    * Ügyeljen a pergésmentes megvalósításra,\n",
    "    * Tanuló módban az 1-es LED folyamatosan világít,\n",
    "    * Lejátszó módban az 1-es LED nem világít,\n",
    "* Tanuló módban a 2-es gombbal bebillentyűzött mintázatot jegyezze meg a mikrovezérlő,\n",
    "    * Tanulás közben a lenyomott gomb mellett a 2-es LED világít,\n",
    "    * A programnak meg kell tanulnia azt is, milyen hosszan van tartva a gombb, illetve milyen sok idő telik el a következő gombnyomásig.\n",
    "* Lejátszó módban az eszköz a 2-es LED-en ismételje meg az utoljára megtanult mintázatot,\n",
    "    * A mintázat lejátszása után kezdje újra lejátszani azt,\n",
    "    * Menet közben bármikor tanuló módba billenthetó a program.\n",
    "\n",
    "_Megjegyzés:_ a kapcsolók pergésmentes beolvasására javasolt, hogy a szintek értéke helyett a szintváltozásokat használja időzítési információként."
   ]
  },
  {
   "cell_type": "markdown",
   "metadata": {},
   "source": [
    "## 3. feladat: PWM programozása - _kf_\n",
    "\n",
    "A feladat célja, hogy megismerkedjünk az impulzusszélesség generátorral.\n",
    "Többek között analóg jelek előállítására használhatjuk az impulzusszélesség modulátor perifériát.\n",
    "Ilyenkor a keletkező négszögjel kitöltési tényezőjét amplitudóvá alakítandó a jelet alkalmasan megválasztott aluláteresztő szűrővel simítani kell. \n",
    "\n",
    "### Az építéshez szükséges alkatrészkészlet\n",
    "\n",
    "* világító dióda _(LED)_: 1 db,\n",
    "* ellenállás: 1 db 220 $\\Omega$.\n",
    "\n",
    "### Az építési segédlet\n",
    "\n",
    "Kimenetnek egy LED-et használunk. A LED finom villogását az emberi szem tehetetlensége simítja, látszólag a dióda fényereje változik.\n",
    "\n",
    "### A vezérlő kód\n",
    "\n",
    "<a href=\"pwm.ino\">pwm.ino</a>"
   ]
  },
  {
   "cell_type": "markdown",
   "metadata": {},
   "source": [
    "## 4. feladat: Hullámforma generátor PWM-ből\n",
    "\n",
    "A gyakorlatvezető által megadott paraméterezésű hullámforma előállítása a cél.\n",
    "Használjon alkalmasan választott aluláteresztő szűrőt a simításhoz, és győződjön meg róla oszcilloszkóp segítségével, hogy a célul kitűzött hullámformát valósítja meg összeállítása."
   ]
  },
  {
   "cell_type": "markdown",
   "metadata": {},
   "source": [
    "## 5. feladat: ADC és soros vonal írása - _kf_\n",
    "\n",
    "A feladat célja, hogy megtanuljuk illeszteni az analóg jelet biztosító szenzorokat a mikrovezérlőhöz, valamint lássunk példát arra, hogy a leolvasott adatokat a PC felé küldjük soros kommunikációval.\n",
    "\n",
    "A PC oldalán a soros vonal olvasását legegyszerűbben az IDE-hez csatolt monitorral tudjuk megoldani, amit a **Tools > Serial Monitor** menüpont alatt érünk el.\n",
    "\n",
    "### Az építéshez szükséges alkatrészkészlet\n",
    "\n",
    "* változtatható ellenállás _(potencióméter)_: 1 db.\n",
    "\n",
    "### Az építési segédlet\n",
    "\n",
    "<img src='poti.jpg' alt=''>\n",
    "\n",
    "Ezzel az igen egyszerű kapcsolással emuláljuk egy analóg szenzor viselkedését.\n",
    "\n",
    "### A vezérlő kód\n",
    "\n",
    "<a href=\"adc.ino\">adc.ino</a>"
   ]
  },
  {
   "cell_type": "markdown",
   "metadata": {},
   "source": [
    "## 6. Folyadékkristályos kijelző illesztése - _kf_\n",
    "\n",
    "A feladat célja, hogy összetettebb kijelző rendszert tudjunk a mikrovezérlőhöz kötni, és azon adatokat megjeleníteni.\n",
    "\n",
    "### Az építéshez szükséges alkatrészkészlet\n",
    "\n",
    "* kijelző _(LCD)_: 1 db,\n",
    "* változtatható ellenállás _(potencióméter)_: 1 db,\n",
    "* higanymentes higyankapcsoló _(tilt switch)_: 1 db,\n",
    "* ellenállások: 1 db 220 $\\Omega$.\n",
    "\n",
    "### Az építési segédlet\n",
    "\n",
    "<img src=lcd.jpg alt=''>\n",
    "<img src=lcd.png alt='' width=33%>\n",
    "\n",
    "A kijelző beépítése és a helyes orientáció megválasztása kellő körültekintést követel: az 1-es láb a föld ($V_\\mathrm{ss}$), a 2-es láb a táp ($V_\\mathrm{cc}$), $\\dots$ a 15-ös láb a LED+, a 16-os a LED-. Ez utóbbi két lábat is beköthetjük 220~$\\Omega$ előtét ellenállással a háttér megvilágításához. A kijelzőre kötött potméter feladata a kontraszt beállítása.\n",
    "\n",
    "### A vezérlő kód\n",
    "\n",
    "<a href=\"lcd.ino\">lcd.ino</a>"
   ]
  },
  {
   "cell_type": "markdown",
   "metadata": {},
   "source": [
    "## 7. feladat: Hőmérő építése\n",
    "\n",
    "Egészítsük ki az előző kapcsolást hőmérséklet érzékelő szenzorral, és a mért hőmérsékletértéket jelezzük a kijelzőn.\n",
    "A hőmérsékletérzékelő huzalozása az ábrát kell kövesse.\n",
    "Ez a szenzor háromláb: két lábára a tápfeszültséget kell kötni, a harmadik láb a mért hőmérséklettel monoton változik.\n",
    "Első közelítésben tekintsük lineárisnak a hőmérséklet--feszültség karakterisztikát.\n",
    "A szenzor tápellátására ($U_\\mathrm{supply}$) 2,7--5,5~V közé kell essen.\n",
    "\n",
    "<img src=\"tmp-sensor.jpg\" alt=\"tmp szenzor\" width=15%>\n",
    "\n",
    "A lábak bekötése ezt az orientációt követve: $U_\\mathrm{supply}$, $U_\\mathrm{sample}$, föld."
   ]
  },
  {
   "cell_type": "markdown",
   "metadata": {},
   "source": [
    "## 8. feladat: Színfelismerő érzékelő építése\n",
    "\n",
    "Egészítsük ki az előző kapcsolást fotoellenállásokkal, színszűrőkkel, és egy nyomógombbal.\n",
    "A nyomógombbal jelezzük az eszköznek, hogy vegyen mintát az érzékelőkre vetülő fényből.\n",
    "A gombot elengedve az LCD-re írja ki a színcsatornák intenzitását.\n",
    "További fejlesztési lehetőség, hogy a soros vonalon a PC-re küldjük az intenzitásinformációkat, és az alapján színezzünk _vásznat_."
   ]
  },
  {
   "cell_type": "markdown",
   "metadata": {},
   "source": [
    "## 9. feladat: Fényvezérelt theremin építése\n",
    "\n",
    "A piezzo kristályt hajtsuk meg \\aref{sec:pwm}. feladatban megismert generátorral.\n",
    "A megszólaló hangmagasság változzon egy fotoszenzorra érkező fényintenzitás függvényében."
   ]
  },
  {
   "cell_type": "markdown",
   "metadata": {},
   "source": [
    "## 10. feladat: Saját projekt ötlet\n",
    "\n",
    "Találjon ki valami izgalmas, a rendelkezésére álló időben megvalósítható feladatot, melyet ha a gyakorlatvezető jóváhagy építsen meg és mutassa be."
   ]
  },
  {
   "cell_type": "markdown",
   "metadata": {},
   "source": [
    "## A méréssel kapcsolatos észrevételek"
   ]
  },
  {
   "cell_type": "markdown",
   "metadata": {},
   "source": [
    "__Kitölteni nem kötelező__: \n",
    "* Itt kérjük feltűntetni, hogy mennyi idő volt szükséges a feladatok elvégzéséhez. \n",
    "* Itt lehet javaslatot tenni a méréssel kapcsolatban.\n",
    "* A méréssel kapcsolatban felmerült további ötletek."
   ]
  }
 ],
 "metadata": {
  "hide_input": false,
  "kernelspec": {
   "display_name": "Python 3",
   "language": "python",
   "name": "python3"
  },
  "language_info": {
   "codemirror_mode": {
    "name": "ipython",
    "version": 3
   },
   "file_extension": ".py",
   "mimetype": "text/x-python",
   "name": "python",
   "nbconvert_exporter": "python",
   "pygments_lexer": "ipython3",
   "version": "3.6.5"
  },
  "latex_envs": {
   "bibliofile": "biblio.bib",
   "cite_by": "apalike",
   "current_citInitial": 1,
   "eqLabelWithNumbers": true,
   "eqNumInitial": 0
  }
 },
 "nbformat": 4,
 "nbformat_minor": 1
}
