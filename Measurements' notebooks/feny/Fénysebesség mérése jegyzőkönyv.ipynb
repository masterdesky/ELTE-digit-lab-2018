{
 "cells": [
  {
   "cell_type": "markdown",
   "metadata": {},
   "source": [
    "# Fénysebesség mérése\n",
    "## 1. feladat: Ismerkedés a mérési elrendezéssel\n",
    "Állítsa össze a mérési elrendezést! \n",
    "Ügyeljen arra, hogy a fényforrás és a detektor közti a fényút akadálymentes legyen.\n",
    "Az oszcilloszkópon folyamatosan mérve győződjön meg arról, hogy a detektált jel feszültsége ne haladja meg a 0,7 Voltot! \n",
    "*Javaslat,* a mérés során az oszcilloszkópon a 20 ns/osztás (kalibrált) időzítési állást használja, ezzel végrehajtható az összes mérési lépés.\n",
    "\n",
    "Jellemezze az oszcilloszkópon mért jelalakokat egy tetszőlegesen választott tükörállás mellett!\n"
   ]
  },
  {
   "cell_type": "markdown",
   "metadata": {},
   "source": [
    "**Itt a helye a jellemzésnek**\n",
    "\n",
    "* jelalak kvalitatív jellemzése\n",
    "* leolvasott jellemzői és a leolvasási hiba\n",
    "\n",
    "Az impulzusgenerátor jele keskeny, gyorsan felfutó és lefutó élekkel Lorentz-görbére emlékeztet. A detektált jel jóval szélesebb, az előzőhöz hasonló felfutó, azonban exponenciáls lefutó éllel rendelkezik. Utóbbi magassága kb. fele akkora.\n",
    "\n",
    "Az első leolvasási hibája emiatt alacsony, könnyű megkülönböztetni a jel elejétés végét, a detektálté viszont nehézkes a 0 szinthez hozzásimuló él miatt."
   ]
  },
  {
   "cell_type": "markdown",
   "metadata": {},
   "source": [
    "## 2. feladat: A fénysebesség mérése\n",
    "Mérje meg az egyes tükörállásoknak megfelelő, az amplitúdó félmagasságában mért időkülönbségeket a jeladó és a jeldetektor jelei között!\n",
    "Mérje meg az időkülönbséget akkor is, ha a detektort egy rövid fényútnak megfelelő tükörpár köti össze az adóval. \n",
    "Az egyes tükörállásoknak megfelelő teljes fényút hosszokat, illetve a mért időkülönbségeket gyűjtse táblázatba.\n",
    "*Megjegyzés:* a laboratórium falain finom távolságjelzések találhatók, melyek segítik az optikai úthossz megállapítását.\n",
    "\n",
    "Milyen hibák terhelik a mérési adatokat? Becsülje meg a mérési adatok hibáját!\n",
    "\n",
    "Ábrázolja a mért adatokat és illesztés segítségével határozza meg a fénysebességet empirikus értékét, illetve az elektronika saját késleltetését!"
   ]
  },
  {
   "cell_type": "markdown",
   "metadata": {},
   "source": [
    "|Mérési pont | fényút [*m*] | időkülönbség [*ns*] |\n",
    "|------------|--------------|---------------------|\n",
    "|1  |  9.06 | 12 |\n",
    "|2  |  12.54 | 18 |\n",
    "|3  |  16.84 | 20 |\n",
    "|4  |  0.97 | 6 |\n",
    "|5  |  25.9 | ? |\n"
   ]
  },
  {
   "cell_type": "code",
   "execution_count": null,
   "metadata": {},
   "outputs": [],
   "source": [
    "#%pylab inline\n",
    "import matplotlib.pyplot as plt\n",
    "import numpy as np\n",
    "import seaborn as sns\n",
    "from scipy.optimize import curve_fit\n",
    "from scipy import stats\n",
    "# adatrögzítés, ábrázolás és illesztés"
   ]
  },
  {
   "cell_type": "code",
   "execution_count": null,
   "metadata": {},
   "outputs": [],
   "source": [
    "sns.set(style='whitegrid')"
   ]
  },
  {
   "cell_type": "code",
   "execution_count": null,
   "metadata": {},
   "outputs": [],
   "source": [
    "distances = np.sort(np.array((9.06,12.54,16.85,0.97)))\n",
    "times = np.sort(np.array((12,18,20,6)))"
   ]
  },
  {
   "cell_type": "code",
   "execution_count": null,
   "metadata": {},
   "outputs": [],
   "source": [
    "fig, axes = plt.subplots(figsize=(14,7))\n",
    "\n",
    "axes.plot(times,distances)\n",
    "\n",
    "axes.set_xlabel(\"Time [$ns$]\")\n",
    "axes.set_ylabel(\"Distance [$m$]\")\n",
    "\n",
    "plt.show()"
   ]
  },
  {
   "cell_type": "code",
   "execution_count": null,
   "metadata": {},
   "outputs": [],
   "source": [
    "slope, intercept, r_value, p_value, std_err = stats.linregress(times,distances)\n",
    "print(\"Slope: {0}\\nIntercept: {1}\\nError: {2}\".format(slope, intercept, std_err))"
   ]
  },
  {
   "cell_type": "code",
   "execution_count": null,
   "metadata": {},
   "outputs": [],
   "source": [
    "fig, axes = plt.subplots(figsize=(14,7))\n",
    "\n",
    "axes.plot(times,distances)\n",
    "axes.plot(times, intercept + slope*times, c='red')\n",
    "\n",
    "axes.set_xlabel(\"Time [$ns$]\")\n",
    "axes.set_ylabel(\"Distance [$m$]\")\n",
    "\n",
    "plt.show()"
   ]
  },
  {
   "cell_type": "markdown",
   "metadata": {},
   "source": [
    "A becsült fénysebesség hibával: $1.045 \\pm 0.140\\ \\frac{m}{ns} = \\left( 1.045 \\pm 0.140 \\right) \\cdot 10^{9}\\ \\frac{m}{s}$.\n",
    "\n",
    "Az elektronika becsült késleltetése: $4.773 \\pm XXX\\ ns$"
   ]
  },
  {
   "cell_type": "markdown",
   "metadata": {},
   "source": [
    "## 3. feladat: Az üvegszál vizsgálata\n",
    "\n",
    "<font color=\"red\">**Figyelem:** a feladatban használt optikai szál nagyon régi, a korábbi évek során elszenvedett mechanikai hatásokat megszenvedte, így a tovaterjedő jel nehezen mérhető rajta, sok türelmet igényel! Javaslat, hogy ezt a feladatot csak a labor végén végezze el!</font>\n",
    "\n",
    "Mérje meg a fényvezető kábelen a jel terjedési idejét, és ez alapján becsülje meg az üvegszálnak a törésmutatóját!"
   ]
  },
  {
   "cell_type": "markdown",
   "metadata": {},
   "source": [
    "A kábel hossza $20.06\\ m$.\n",
    "\n",
    "A mért jelterjedési idő $14 \\pm 0.08\\ ns$.\n",
    "\n",
    "Ez alapján a fény terjedési sebessége $\\frac{20.06 \\pm 0.005}{14 \\pm 0.08}\\ \\frac{m}{ns} = 1.433 \\pm 0.008\\ \\frac{m}{ns}$\n",
    "\n",
    "Ez alapján a fényvezető szál becsült törésmutatója $n = \\frac{c}{c_1} = 2.093 \\pm 0.012$"
   ]
  },
  {
   "cell_type": "markdown",
   "metadata": {},
   "source": [
    "## 4. feladat: Jelterjedés vizsgálata koaxiális kábelben\n",
    "\n",
    "Mérje meg az elektronikus jelek terjedési sebességét a koaxiális kábelen!"
   ]
  },
  {
   "cell_type": "markdown",
   "metadata": {},
   "source": [
    "A kábel hossza $19,2\\ m$\n",
    "\n",
    "A mért propagációs idő $20 \\pm 0.5\\ ns$\n",
    "\n",
    "Ez alapján a jelek terjedési sebessége a koaxiális kábelen $\\frac{19.2 \\cdot 2}{20\\pm 0.5}\\ \\frac{m}{ns} = 1.92 \\pm 0.048\\ \\frac{m}{ns}$, ami a fény vákuumbeli segességének körülbelül $0.64 \\pm 0.016$ szorosa."
   ]
  },
  {
   "cell_type": "markdown",
   "metadata": {},
   "source": [
    "### Visszaverődések vizsgálata koaxiális kábelben\n",
    "Ha a koaxiális kábel csatlakozási pontjai nincsenek helyesen *lezárva*, akkor a rajta átvezetett jel formája torzul a visszaverődések miatt.\n",
    "Mérje meg a vezeték bemenő oldalán a gerjesztés amplitudójának valamint a visszavert jel amlitudojának nagyságának arányát különböző lezáró ellenállásérték megválasztása mellett!\n",
    "Ehhez kapcsolja a koaxiális kábel végére a mérőhelyen elhelyezett ellenállássort.\n",
    "\n",
    "<img src=\"ellenallassor.svg\" alt=\"R=10,33,51,220,510\">\n",
    "\n",
    "A lezáró ellenállás aktuális értékét úgy állíthatja be, hogy az ellenállások mellett található söntölő kapcsolókat (*jumperek*) lehúzza. Így a lehetséges ellenálláskombinációk széles skáláját elő tudja állítani.\n",
    "\n",
    "Az adatokból illesztés segítségével állapítsa meg a kábel hullámellenállását és a veszteségi tényezőt! \n",
    "*Javaslat:* az adatok ábrázolásánál érdemes a vízszintes tengelyt logaritmikusra választani.\n",
    "Ábrázolja az adatokat és illesszen rájuk egy alkalmas fügvényt."
   ]
  },
  {
   "cell_type": "markdown",
   "metadata": {},
   "source": [
    "|Mérés száma | Lezáró ellenállás [ $\\Omega$ ] | Amplitúdóarány |\n",
    "|------------|--------------------------------|----------------|\n",
    "|1 | $0$ | $-16,5/20$ |\n",
    "|2 | $33$ | $-4/20$ |\n",
    "|3 | $94$ | $4.5/20$ |\n",
    "|4 | $220$ | $11/20$ |\n",
    "|5 | $314$ | $12.5/20$ |\n",
    "|6 | $510$ | $14/20$ |\n",
    "|7 | $730$ | $15/20$ |\n",
    "|8 | $824$ | $15.5/20$ |"
   ]
  },
  {
   "cell_type": "code",
   "execution_count": null,
   "metadata": {},
   "outputs": [],
   "source": [
    "# adatrögzítés, ábrázolás és illesztés"
   ]
  },
  {
   "cell_type": "code",
   "execution_count": null,
   "metadata": {},
   "outputs": [],
   "source": [
    "ohms = np.array((0.0001,33,94,220,314,510,730,824))\n",
    "amplits = np.array((-16.5,-4,4.5,11,12.5,14,15,15.5))/20"
   ]
  },
  {
   "cell_type": "code",
   "execution_count": null,
   "metadata": {},
   "outputs": [],
   "source": [
    "fig, axes = plt.subplots(figsize=(14,7))\n",
    "\n",
    "axes.plot(ohms, amplits, c='red')\n",
    "\n",
    "axes.set_xlabel('Resistance ($\\Omega$)')\n",
    "axes.set_ylabel('Amplitude proportion')\n",
    "\n",
    "axes.set_xscale('log')\n",
    "\n",
    "plt.show()"
   ]
  },
  {
   "cell_type": "code",
   "execution_count": null,
   "metadata": {},
   "outputs": [],
   "source": [
    "popt = np.polyfit(np.log(ohms), amplits, 1)"
   ]
  },
  {
   "cell_type": "code",
   "execution_count": null,
   "metadata": {},
   "outputs": [],
   "source": [
    "fig, axes = plt.subplots(figsize=(14,7))\n",
    "\n",
    "axes.plot(ohms, amplits, c='red')\n",
    "axes.plot(ohms, popt[0]*np.log(ohms) + popt[1], c='green')\n",
    "\n",
    "axes.set_xlabel('Resistance ($\\Omega$)')\n",
    "axes.set_ylabel('Amplitude proportion')\n",
    "\n",
    "axes.set_xscale('log')\n",
    "\n",
    "plt.show()"
   ]
  },
  {
   "cell_type": "markdown",
   "metadata": {},
   "source": [
    "Az illesztésnél használt modellfüggvény egyenlete $A + B \\cdot log(x)$, amely alapján a hullámellenállás **XXX $\\pm$ XXX _$\\Omega$_** és a veszteségi tényező **XXX $\\pm$ XXX** adódik."
   ]
  },
  {
   "cell_type": "markdown",
   "metadata": {},
   "source": [
    "## A méréssel kapcsolatos észrevételek"
   ]
  },
  {
   "cell_type": "markdown",
   "metadata": {},
   "source": [
    "__Kitölteni nem kötelező__: \n",
    "* Itt kérjük feltűntetni, hogy mennyi idő volt szükséges a feladatok elvégzéséhez. \n",
    "* Itt lehet javaslatot tenni a méréssel kapcsolatban.\n",
    "* A méréssel kapcsolatban felmerült további ötletek."
   ]
  },
  {
   "cell_type": "code",
   "execution_count": null,
   "metadata": {},
   "outputs": [],
   "source": []
  }
 ],
 "metadata": {
  "kernelspec": {
   "display_name": "Python 3 (ipykernel)",
   "language": "python",
   "name": "python3"
  },
  "language_info": {
   "codemirror_mode": {
    "name": "ipython",
    "version": 3
   },
   "file_extension": ".py",
   "mimetype": "text/x-python",
   "name": "python",
   "nbconvert_exporter": "python",
   "pygments_lexer": "ipython3",
   "version": "3.9.10"
  }
 },
 "nbformat": 4,
 "nbformat_minor": 4
}
