{
 "cells": [
  {
   "cell_type": "code",
   "execution_count": null,
   "metadata": {},
   "outputs": [],
   "source": [
    "%pylab inline"
   ]
  },
  {
   "cell_type": "markdown",
   "metadata": {},
   "source": [
    "# Beütésszám átlagmérők\n",
    "\n",
    "\n",
    "## 1. feladat: A monostabil időzítése\n",
    "Számítsa ki, mekkora az 555-el megvalósított monostabil billenőkör időzítése. Figyeljen az 555-ös tápfeszültség értékére!\n",
    "A számítás kerüljön be a jegyzőkönyvbe!"
   ]
  },
  {
   "cell_type": "code",
   "execution_count": null,
   "metadata": {
    "collapsed": true
   },
   "outputs": [],
   "source": []
  },
  {
   "cell_type": "markdown",
   "metadata": {},
   "source": [
    "## 2. feladat: A jelalakok vizsgálata\n",
    "Adjon néhány száz Hz frekvenciájú négyszögjelet az impulzusgenerátorról az áramkör bemenetére. \n",
    "Vizsgálja meg oszcilloszkóppal az alábbi pontokon a jelalakokat:\n",
    "\n",
    "- a tranzisztor $T_{10}$ bázisán, \n",
    "- az 555-ös kettes és hármas lábain, \n",
    "- a $D_1$ dióda katódján, \n",
    "- valamint az átlagmérő kimenetén ($U$) levő jelalakokat.\n",
    "\n",
    "Az oszcilloszkópról a jelalakot a `scope.sh` parancs segítségével kérheti le, feltűntetve, hogy melyik csatorna adataira kíváncsi. Itt tipikusan a következőt kell futtatni:\n",
    "\n",
    "```bash\n",
    "scope.sh 1 2 > meres.dat\n",
    "```\n",
    "\n",
    "_Megjegyzés:_ Érdemes a vizsgált jelalakokat a bemenő jel ütemezéséhez igazítani."
   ]
  },
  {
   "cell_type": "code",
   "execution_count": null,
   "metadata": {},
   "outputs": [],
   "source": []
  },
  {
   "cell_type": "markdown",
   "metadata": {},
   "source": [
    "Mennyire egyezik az elméletileg kiszámított időzítés értéke a gyakorlatilag megmérttel?"
   ]
  },
  {
   "cell_type": "code",
   "execution_count": null,
   "metadata": {
    "collapsed": true
   },
   "outputs": [],
   "source": []
  },
  {
   "cell_type": "markdown",
   "metadata": {},
   "source": [
    "## 3. feladat: A berendezés konfigurálása\n",
    "Meghatározandó $C_0$ kondenzátor értéke úgy, hogy az átlagmérő linearizált üzemmódjában a ,,átvitelt'' jellemző \n",
    "meredekség a gyakorlatvezető által megadott értékű legyen!\n",
    "\n",
    "- A gyakorlatvezető által megadott meredekség, $\\alpha=\\frac{\\partial n}{\\partial U}=$\n",
    "- A számolást csatolja a jegyzőkönyvhöz!\n",
    "- A kondenzátor számolt értéke, $C^*_0=$\n",
    "- A további méréshez választott alkatelem értéke, $C_0=$"
   ]
  },
  {
   "cell_type": "code",
   "execution_count": null,
   "metadata": {
    "collapsed": true
   },
   "outputs": [],
   "source": []
  },
  {
   "cell_type": "markdown",
   "metadata": {},
   "source": [
    "## 4. feladat: A transzferkarakterisztika felvétele\n",
    "Feladat feltérképezni az átlagmérő transzferkarakterisztikáit mindkét üzemmód esetén. \n",
    "Először a kapcsolót ($K$) állítsa 1-es helyzetbe, és állapítsa meg, mekkora az a bemeneti frekvenciatartomány, \n",
    "amelynek hatására az $U$ kimeneti feszültség a 0~V és az 5~V között változik! \n",
    "Vegye fel az átlagmérő $f_\\mathrm{be} \\sim U$ transzferkarakterisztikáját a fent megállapított frekvenciatartományban!\n",
    "Végezze el ugyanezt a mérést a linearizált üzemmód esetén is ($K$ 2-e állása). A frekvenciatartományt válassza meg úgy,\n",
    "hogy az $U$ kimeneti feszültség a 0~V és a 12~V között változzon.\n",
    "Mindkét karakterisztikát legalább 20 ponton vegye fel és ábrázolja!\n",
    "\n",
    "- Ábrázolja a $K$ 1-es állásához tartozó transzferkarakterisztikát!\n",
    "- Ugyanezen az ábrán tüntesse fel a modell szerint elvárt görbét is!\n",
    "- Ábrázolja a $K$ 2-es álláshoz (linearizált mód) transzferkarakterisztikát!\n",
    "- Ugyanezen a diagramon ábrázolja az elméleti transzferkarakterisztikákat is!\n",
    "- Az ábra pontjaira illesszen egyenest, és adja meg a kapott paramétereket!\n",
    "- Értelmezze az adatokat!"
   ]
  },
  {
   "cell_type": "code",
   "execution_count": null,
   "metadata": {
    "collapsed": true
   },
   "outputs": [],
   "source": []
  },
  {
   "cell_type": "markdown",
   "metadata": {},
   "source": [
    "## 5. feladat: A Schmitt-rigger paraméterezése\n",
    "A gyakorlatvezetőtől kérjen két küszöbszintet a Schmitt-trigger számára. Ez lehet két beütésszám érték,\n",
    "amelyeket a (be) bemenetre kapcsolva az egyiknél bekapcsol a riasztás, míg a másiknál kikapcsol, de lehet\n",
    "két feszültség érték is, amelyek nyilván a Schmittr-kör bemenetén értendők. Az így kapott adatok figyelembe\n",
    "vételével tervezze meg a hiszterézises komparátort! Ellenőrizze gyakorlatilag a tervezés helyességét!\n",
    "\n",
    "\n",
    "<img src=\"aramkor.svg\" alt=\"Drawing\" style=\"width: 500px;\"/>\n",
    "\n",
    "A Thevenin-tételt alkalmazva az ábrán látható áramkörhöz jut, ahol\n",
    "$$\n",
    "U_1=U_t \\left( \\frac{R_{23}}{R_{22}+R_{23}} \\right),\n",
    "\\quad\\quad\\quad\\quad\n",
    "R_2=R_{22} \\times R_{23}.\n",
    "$$\n",
    "Ennek küszöbszintjei:\n",
    "$$\n",
    "U_{k1} = (U_t - U) \\frac{R_2}{R_{21}+R_2} +U_1,\n",
    "\\quad\\quad\\quad\\quad\n",
    "U_{k2} = (0 - U_1) \\frac{R_2}{R_{21}+R_2} +U_1.\n",
    "$$\n",
    "A Schmitt-kör tervezése azt jelenti, hogy adottak $U_{k1}, U_{k2}, U_t, R_{23}$ paraméterek, és keressük \n",
    "$R_{21}, R_{22}$ értékeit.\n",
    "Ennek érdekében az alábbi egyenletrendszert kell egyszerűsítenie:\n",
    "\n",
    "\n",
    "$$U_{k1}-U_{k2} = U_t\\frac{R_{22}R_{23}}{R_{21}(R_{22}+R_{23})+R_{22}R_{23}},$$\n",
    "$$U_{k1}  = U_t\\frac{(R_{21}+R_{22})R_{23}}{R_{21}(R_{22}+R_{23})+R_{22}R_{23}}.$$\n",
    "\n"
   ]
  },
  {
   "cell_type": "code",
   "execution_count": null,
   "metadata": {
    "collapsed": true
   },
   "outputs": [],
   "source": []
  },
  {
   "cell_type": "markdown",
   "metadata": {},
   "source": [
    "## 6. feladat: A műszer élesítése\n",
    "\n",
    "<font color=\"red\">**Figyelem:** ebben a szemeszterben a hallgatói laboratóriumban mellőzzük a radioaktív izotópok használatát. Ezt a feladatot az impulzusgenerátort használva tudja tesztelni, amelyet a laborvezetőnek kell bemutatni.</font>\n",
    "\n",
    "Ha a fenti feladatokat elvégezte, a beütésszám átlagmérő készen áll a valós körülmények közti kipróbálásra.\n",
    "Helyezze üzembe a szcintillációs mérőfejet. Tegye az izotópot a detektor elé, a mérőfej tápfeszültségét \n",
    "kapcsolja be és lassan emelje azt nullától a kívánt beütésszám elérésének értékéig. Az átlagmérő linearizált üzemmódját\n",
    "válassza ($K$ 2-es állás). A detektorról adjon véletlen impulzusokat az átlagmérő bemenetére. Vesse össze a\n",
    "számláló ill. a beütésszám átlagmérő által jelzett beütésszám adatokat! Vizsgálja oszcilloszkóppal a\n",
    "következő jelalakokat: \n",
    "\n",
    "- az átlagmérő be bemenetén,\n",
    "- a $T_{10}$ bázisán,\n",
    "- az 555-ös kettes és hármas lábain, \n",
    "- a $D_1$ dióda katódján, valamint \n",
    "- az átlagmérő kimenetén ($U$) kialakuló jelalakokat!"
   ]
  },
  {
   "cell_type": "code",
   "execution_count": null,
   "metadata": {
    "collapsed": true
   },
   "outputs": [],
   "source": []
  },
  {
   "cell_type": "markdown",
   "metadata": {},
   "source": [
    "## A méréssel kapcsolatos észrevételek"
   ]
  },
  {
   "cell_type": "markdown",
   "metadata": {},
   "source": [
    "__Kitölteni nem kötelező__: \n",
    "* Itt kérjük feltűntetni, hogy mennyi idő volt szükséges a feladatok elvégzéséhez. \n",
    "* Itt lehet javaslatot tenni a méréssel kapcsolatban.\n",
    "* A méréssel kapcsolatban felmerült további ötletek."
   ]
  }
 ],
 "metadata": {
  "hide_input": false,
  "kernelspec": {
   "display_name": "Python 3",
   "language": "python",
   "name": "python3"
  },
  "language_info": {
   "codemirror_mode": {
    "name": "ipython",
    "version": 3
   },
   "file_extension": ".py",
   "mimetype": "text/x-python",
   "name": "python",
   "nbconvert_exporter": "python",
   "pygments_lexer": "ipython3",
   "version": "3.6.5"
  },
  "latex_envs": {
   "bibliofile": "biblio.bib",
   "cite_by": "apalike",
   "current_citInitial": 1,
   "eqLabelWithNumbers": true,
   "eqNumInitial": 0
  }
 },
 "nbformat": 4,
 "nbformat_minor": 1
}
