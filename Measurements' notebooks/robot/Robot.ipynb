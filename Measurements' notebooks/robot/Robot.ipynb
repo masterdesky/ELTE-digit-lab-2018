{
 "cells": [
  {
   "cell_type": "markdown",
   "metadata": {},
   "source": [
    "# Robot\n",
    "\n",
    "A mérési feladatokat papíron osztjuk ki!"
   ]
  },
  {
   "cell_type": "markdown",
   "metadata": {},
   "source": [
    "## A méréssel kapcsolatos észrevételek"
   ]
  },
  {
   "cell_type": "markdown",
   "metadata": {},
   "source": [
    "__Kitölteni nem kötelező__: \n",
    "* Itt kérjük feltűntetni, hogy mennyi idő volt szükséges a feladatok elvégzéséhez. \n",
    "* Itt lehet javaslatot tenni a méréssel kapcsolatban.\n",
    "* A méréssel kapcsolatban felmerült további ötletek."
   ]
  }
 ],
 "metadata": {
  "hide_input": false,
  "kernelspec": {
   "display_name": "Python 3",
   "language": "python",
   "name": "python3"
  },
  "language_info": {
   "codemirror_mode": {
    "name": "ipython",
    "version": 3
   },
   "file_extension": ".py",
   "mimetype": "text/x-python",
   "name": "python",
   "nbconvert_exporter": "python",
   "pygments_lexer": "ipython3",
   "version": "3.6.5"
  },
  "latex_envs": {
   "bibliofile": "biblio.bib",
   "cite_by": "apalike",
   "current_citInitial": 1,
   "eqLabelWithNumbers": true,
   "eqNumInitial": 0
  }
 },
 "nbformat": 4,
 "nbformat_minor": 1
}
