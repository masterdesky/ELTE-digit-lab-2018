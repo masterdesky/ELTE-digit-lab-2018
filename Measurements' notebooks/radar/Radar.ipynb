{
 "cells": [
  {
   "cell_type": "code",
   "execution_count": null,
   "metadata": {},
   "outputs": [],
   "source": [
    "%pylab inline"
   ]
  },
  {
   "cell_type": "markdown",
   "metadata": {},
   "source": [
    "# Mérés ultrahang radarral\n",
    "## 1. feladat: A hangsebesség közelítő meghatarozása\n",
    "Egy arra alkalmas négyszög jel (ún. trigger) gerjeszti az ultrahangot kibocsátó piezzo-kristályt. \n",
    "A gerjesztés hatására egy csirip keletkezik, ami tovaterjed, majd visszaverődés után detektálható.\n",
    "Vizsgálja meg a csirip és a visszavert jel alakjait oszcilloszkóp segítségével! \n",
    "Mérje meg, hogy mennyi idő telik el a triggerjel és a visszavert jel között. \n",
    "Első közelítésben feltéve, hogy a rendszer késleltetése elhanyagolható, a mért idő és a visszaverő felület távolságának ismeretében határozza meg a hangsebességet! \n",
    "*Megjegyzés:* adja meg a képletet, ami alapján számol és ne feledkezzen meg a hibák becsléséről sem!"
   ]
  },
  {
   "cell_type": "markdown",
   "metadata": {},
   "source": [
    "* **A mért időkülönbség, $t = (0.021 \\pm 0.0005)\\ s$**\n",
    "\n",
    "Lemért távolságok:\n",
    "* Radartálca és a káosznál levő fal merőleges távolsága: $F = (351 \\pm 0.5)\\ cm$\n",
    "* A jelforrás és a tálca távolsága: $T = (20 \\pm 0.5)\\ cm$\n",
    "* **A visszaverő felület távolsága, $L = 2 \\cdot F + 3 \\cdot (T) = 762 \\ cm = (7.22 \\pm 0.005)\\ m$**\n",
    "* **A hangsebesség közelítő értéke, $c = \\frac{L}{t} = \\frac{7.62}{0.021}\\ \\frac{m}{s} = 362.857\\ \\frac{m}{s}$**\n",
    "\n",
    "A jelek közti időt Audacity-vel mértem.\n",
    "\n",
    "* t abszolút hibája: $0.0005\\ s$\n",
    "* s abszolút hibája: $0.5\\ cm$"
   ]
  },
  {
   "cell_type": "code",
   "execution_count": null,
   "metadata": {
    "scrolled": true
   },
   "outputs": [],
   "source": [
    "2 * 351 + 3*20"
   ]
  },
  {
   "cell_type": "code",
   "execution_count": null,
   "metadata": {},
   "outputs": [],
   "source": [
    "(762/100)/0.021"
   ]
  },
  {
   "cell_type": "markdown",
   "metadata": {},
   "source": [
    "## 2. feladat: A radar kalibrációja és a hangsebesség pontosabb meghatározása\n",
    "A jel kibocsátása és visszaverődése között eltelt idő pontosabb meghatározására a hullámalakokat a számítógép hangkártyájával digitalizáljuk.\n",
    "A radart állítsa egy-egy adott, jól visszaverő irányba! \n",
    "*Javaslat:* közeli falakra merőleges és a sarkokat célzó nyalábok jól detektálhatóak.\n",
    "Vegyen fel kb. fél másodpercnyi jelet, 44,1 _kHz_ mintavételi frekvenciával egy arra alkalmas program az `audacity` segítségével.\n",
    "A mintában keresse meg a visszhang helyét!\n",
    "*Javaslat:* mérje meg, a hogy visszhang hány mintával később érkezik, mint a triggerjel eleje, és a különbségből következtessen az eltelt időre.\n",
    "A mérési adatokat gyűjtse táblázatba, ábrázolja azokat és illesszen rájuk egyenest."
   ]
  },
  {
   "cell_type": "markdown",
   "metadata": {},
   "source": [
    "|Mérés száma | Visszaverő felület távolsága | Visszhangjel ideje |\n",
    "|------------|------------------------------|--------------------|\n",
    "|1           |           $762\\ cm$          |      $0.021\\ s$    |\n",
    "|2           |           $580\\ cm$          |      $0.018\\ s$    |\n",
    "|3           |           $592\\ cm$          |      $0.018\\ s$    |\n",
    "|4           |           $904\\ cm$          |      $0.027\\ s$    |\n",
    "|5           |           $856\\ cm$          |      $0.026\\ s$    |\n",
    "|6           |           $ . \\ cm$          |      $ .   \\ s$    |"
   ]
  },
  {
   "cell_type": "code",
   "execution_count": null,
   "metadata": {},
   "outputs": [],
   "source": [
    "4*(130+69) + 60"
   ]
  },
  {
   "cell_type": "code",
   "execution_count": null,
   "metadata": {},
   "outputs": [],
   "source": [
    "# ábrázolás és illesztés"
   ]
  },
  {
   "cell_type": "code",
   "execution_count": null,
   "metadata": {},
   "outputs": [],
   "source": [
    "from scipy import stats"
   ]
  },
  {
   "cell_type": "code",
   "execution_count": null,
   "metadata": {},
   "outputs": [],
   "source": [
    "time = np.array((0.018,0.018,0.021,0.026,0.027))\n",
    "distance = np.array((5.80,5.92,7.62,8.56,9.04))\n",
    "\n",
    "slope_1, intercept_1, r_value_1, p_value_1, std_err_1 = stats.linregress(time, distance)\n",
    "line_1 = slope_1*time+intercept_1"
   ]
  },
  {
   "cell_type": "code",
   "execution_count": null,
   "metadata": {},
   "outputs": [],
   "source": [
    "print(\"slope:\", slope_1,\n",
    "      \"\\nintercept:\", intercept_1,\n",
    "      \"\\nr_value:\", r_value_1,\n",
    "      \"\\np_value:\", p_value_1,\n",
    "      \"\\nstd_err:\", std_err_1)"
   ]
  },
  {
   "cell_type": "code",
   "execution_count": null,
   "metadata": {},
   "outputs": [],
   "source": [
    "fig_1, axes_1 = plt.subplots(figsize=(14,7))\n",
    "\n",
    "axes_1.scatter(time, distance, c=\"green\")\n",
    "axes_1.plot(time, line_1, c=\"red\")\n",
    "\n",
    "plt.grid()\n",
    "plt.show()"
   ]
  },
  {
   "cell_type": "markdown",
   "metadata": {},
   "source": [
    "Az egyenes paramétereiből határozza meg a rendszer késleltetését és a hangsebességet.\n",
    "* Az illesztett egyenes egyenlete: $337.03 \\cdot T - 0.027$\n",
    "* A hangsebesség értéke az illesztésből: $337.03 \\frac{m}{s}$\n",
    "* A rendszer késleltetése: $$"
   ]
  },
  {
   "cell_type": "markdown",
   "metadata": {},
   "source": [
    "## 3. feladat: A visszavert jel intenzitásának szögfüggése\n",
    "Válasszon ki egy jól visszaverő közeli falfelületet. \n",
    "A léptetőmotort egyenként léptetve, tapogassa le a falat.\n",
    "_Figyelem:_ mivel csak egy irányba lehet léptetni a motorral, ezért figyeljen oda, hogy még a merőleges irány _előtti_ pontból indÍtsa a mérést.\n",
    "Egy-egy rögzített irányban a mérés bizonytalansága nagy, akár 20-30%-t is szór csiripenként az amplitudó maximuma a keverőjel fázisától függően. \n",
    "*Javaslat:* érdemes tehát mindegyik irányban megnézni, hogy több visszaverődés közül mekkora a jel legnagyobb értéke.\n",
    "\n",
    "A mérési adatokra illesszen Gauss-függvényt. \n",
    "*Megjegyzés:* a radar kb. 400 lépésben ér körbe."
   ]
  },
  {
   "cell_type": "markdown",
   "metadata": {},
   "source": [
    "|Mérés száma | Elfordulás | Amplitúdó |\n",
    "|------------|------------|-----------|\n",
    "|     1      |     0°     |   0.145   |\n",
    "|     2      |    2.7°    |   0.150   |\n",
    "|     3      |    10.8°   |   0.215   |\n",
    "|     4      |    16.2°   |   0.130   |\n",
    "|     5      |    43.2°   |   0.350   |\n",
    "|     6      |    44.1°   |   0.460   |\n",
    "|     7      |    45.0°   |   0.520   |\n",
    "|     8      |    45.9°   |   0.330   |\n",
    "|     9      |    46.8°   |   0.170   |\n",
    "|    10      |    47.7°   |   0.100   |\n",
    "|    11      |    49.5°   |   0.080   |"
   ]
  },
  {
   "cell_type": "code",
   "execution_count": null,
   "metadata": {},
   "outputs": [],
   "source": [
    "# ábrázolás és illesztés"
   ]
  },
  {
   "cell_type": "code",
   "execution_count": null,
   "metadata": {},
   "outputs": [],
   "source": [
    "import scipy"
   ]
  },
  {
   "cell_type": "code",
   "execution_count": null,
   "metadata": {},
   "outputs": [],
   "source": [
    "from scipy.optimize import curve_fit\n",
    "from scipy import asarray as ar,exp"
   ]
  },
  {
   "cell_type": "code",
   "execution_count": null,
   "metadata": {},
   "outputs": [],
   "source": [
    "x = angle = np.array((43.2,44.1,45.0,45.9,46.8,47.7,49.5))\n",
    "y = amplitude = np.array((0.350,0.460,0.520,0.330,0.170,0.10,0.080))"
   ]
  },
  {
   "cell_type": "code",
   "execution_count": null,
   "metadata": {},
   "outputs": [],
   "source": [
    "n = len(x)\n",
    "mean = sum(x*y)/n\n",
    "sigma = sum(y*(x-mean)**2)/n\n",
    "\n",
    "def gauss(x,a,x0,sigma):\n",
    "    return a*exp(-(x-x0)**2/(2*sigma**2))\n",
    "\n",
    "popt,pcov = curve_fit(gauss,x,y,p0=[1,mean,sigma])"
   ]
  },
  {
   "cell_type": "code",
   "execution_count": null,
   "metadata": {},
   "outputs": [],
   "source": [
    "print(\"sigma:\", sigma)\n",
    "print(\"\\npopt:\\n\", popt)\n",
    "print(\"\\npcov:\\n\", pcov)"
   ]
  },
  {
   "cell_type": "code",
   "execution_count": null,
   "metadata": {},
   "outputs": [],
   "source": [
    "fig_2, axes_2 = plt.subplots(figsize=(14,7))\n",
    "\n",
    "axes_2.scatter(angle, amplitude, c=\"green\", label=\"Datapoints\")\n",
    "axes_2.plot(x,gauss(x,*popt),'ro:', label=\"Gaussian fit\")\n",
    "\n",
    "plt.legend()\n",
    "plt.grid()\n",
    "plt.show()"
   ]
  },
  {
   "cell_type": "markdown",
   "metadata": {},
   "source": [
    "## ábrázolás és illesztés"
   ]
  },
  {
   "cell_type": "markdown",
   "metadata": {},
   "source": [
    "* Az illesztett modell egyenlete: $a \\cdot e^{\\tfrac{-(x-x_{0})^{2}}{\\left( 2 \\cdot \\sigma^{2} \\right)}}$\n",
    "* Az illesztés paramétereinek értéke:\n",
    "* Ebből a szögfelbontás értéke (a Gauss-görbe szórása):"
   ]
  },
  {
   "cell_type": "markdown",
   "metadata": {},
   "source": [
    "## 4. feladat: A csirip spektrumának vizsgálata\n",
    "A rögzített adatokból emelje ki egy visszavert jel hullámcsomagját és végezze el a Fourier-transzformációját. \n",
    "A hullámcsomag Fourier-spektruma jellegzetes maximummal rendelkezik.\n",
    "*Megjegyzés:* több visszavert hullámcsomagból ügyes szerkesztéssel pontosabb eredményre juthat.\n",
    "Mekkora frekvenciánál van ez a maximum, és mekkora a jel sávszélessége.\n",
    "*Megjegyzés:* sávszélesség alatt a maximumhoz képest -3 dB esést felölelő tartományt értjük.\n",
    "\n",
    "* A spektrum maximuma, $f=2750\\ Hz$\n",
    "* Az alsó sávhatár, $f_\\mathrm{min}=$\n",
    "* A felső sávhatár, $f_\\mathrm{max}=$\n",
    "* A jel sávszélessége, $C=$"
   ]
  },
  {
   "cell_type": "code",
   "execution_count": null,
   "metadata": {},
   "outputs": [],
   "source": [
    "[freq, D] = scipy.io.wavfile.read(\"csomag.wav\")"
   ]
  },
  {
   "cell_type": "code",
   "execution_count": null,
   "metadata": {},
   "outputs": [],
   "source": [
    "plt.plot(D)\n",
    "plt.yticks(np.arange(-3000, 3250, step=250))\n",
    "\n",
    "plt.xlabel(\"time\")\n",
    "plt.ylabel(\"frequency\")\n",
    "\n",
    "plt.grid()\n",
    "plt.show()"
   ]
  },
  {
   "cell_type": "code",
   "execution_count": null,
   "metadata": {},
   "outputs": [],
   "source": [
    "out = numpy.fft.fft(D)"
   ]
  },
  {
   "cell_type": "code",
   "execution_count": null,
   "metadata": {},
   "outputs": [],
   "source": [
    "plt.plot(out.real)\n",
    "#plt.xscale(\"log\")\n",
    "plt.yticks(np.arange(-3000, 3250, step=250))\n",
    "\n",
    "plt.xlabel(\"time\")\n",
    "plt.ylabel(\"frequency\")\n",
    "\n",
    "plt.grid()\n",
    "plt.show()"
   ]
  },
  {
   "cell_type": "markdown",
   "metadata": {},
   "source": [
    "## 5. feladat: Speciális szórócentrumok visszaverőképességének vizsgálata\n",
    "Mérje meg különböző geometriájú visszaverő objektum, (így a gömb, a sík (0$^\\circ$ és 45$^\\circ$), a saroktükör (két állása) és az érdes felület) relatív visszaverőképességét.\n",
    "Tekintse egységnyinek a 90$^\\circ$ álló síkfelületet (maximális visszaverőképesség). \n",
    "\n",
    "A vizsgált szórócentrumok relatív visszaverőképességét adja meg egy táblázatban!\n",
    "\n",
    "Hogyan korrigálná a mérési adatokat, ha a szórófelületet nem tudja mindig ugyanúgy egység távolra elhelyezni? "
   ]
  },
  {
   "cell_type": "code",
   "execution_count": null,
   "metadata": {},
   "outputs": [],
   "source": []
  },
  {
   "cell_type": "markdown",
   "metadata": {},
   "source": [
    "## 6. feladat: A terem alaprajzának analízise\n",
    "Rögzítse a mintasorozatot, miközben a radar legalább egy teljes kört bejár. \n",
    "A mellékelt szkript segítségével szerkessze meg a visszaverődési pontok lenyomatát és értelmezze a kapott képet.\n",
    "Diszkutálja a kapott képet."
   ]
  },
  {
   "cell_type": "code",
   "execution_count": null,
   "metadata": {},
   "outputs": [],
   "source": [
    "from feldolgoz import radar_korkep"
   ]
  },
  {
   "cell_type": "code",
   "execution_count": null,
   "metadata": {
    "scrolled": true
   },
   "outputs": [],
   "source": [
    "t = radar_korkep(\"./korkep.wav\")"
   ]
  },
  {
   "cell_type": "code",
   "execution_count": null,
   "metadata": {},
   "outputs": [],
   "source": [
    "time_t = np.empty(len(t))\n",
    "\n",
    "for i in range(0,len(t)):\n",
    "    time_t[i] = t[i][0]\n",
    "    \n",
    "data = np.empty(len(t))\n",
    "\n",
    "for i in range(0,len(t)):\n",
    "    data[i] = t[i][2]"
   ]
  },
  {
   "cell_type": "code",
   "execution_count": null,
   "metadata": {},
   "outputs": [],
   "source": [
    "figsize(12,12)\n",
    "ax = subplot(111, polar=True)\n",
    "ax.plot(time_t, data, 'r.', ms=3)\n",
    "ax.set_rmax(1e8)\n",
    "ax.grid(True)\n",
    "\n",
    "ax.set_title(\"A line plot on a polar axis\", va='bottom')\n",
    "plt.show()"
   ]
  },
  {
   "cell_type": "code",
   "execution_count": null,
   "metadata": {},
   "outputs": [],
   "source": []
  },
  {
   "cell_type": "markdown",
   "metadata": {},
   "source": [
    "## A méréssel kapcsolatos észrevételek"
   ]
  },
  {
   "cell_type": "markdown",
   "metadata": {},
   "source": [
    "__Kitölteni nem kötelező__: \n",
    "* Itt kérjük feltűntetni, hogy mennyi idő volt szükséges a feladatok elvégzéséhez. \n",
    "* Itt lehet javaslatot tenni a méréssel kapcsolatban.\n",
    "* A méréssel kapcsolatban felmerült további ötletek."
   ]
  }
 ],
 "metadata": {
  "hide_input": false,
  "kernelspec": {
   "display_name": "Python 3 (ipykernel)",
   "language": "python",
   "name": "python3"
  },
  "language_info": {
   "codemirror_mode": {
    "name": "ipython",
    "version": 3
   },
   "file_extension": ".py",
   "mimetype": "text/x-python",
   "name": "python",
   "nbconvert_exporter": "python",
   "pygments_lexer": "ipython3",
   "version": "3.9.10"
  },
  "latex_envs": {
   "bibliofile": "biblio.bib",
   "cite_by": "apalike",
   "current_citInitial": 1,
   "eqLabelWithNumbers": true,
   "eqNumInitial": 0
  }
 },
 "nbformat": 4,
 "nbformat_minor": 4
}
